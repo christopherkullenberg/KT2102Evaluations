{
 "cells": [
  {
   "cell_type": "code",
   "execution_count": 29,
   "metadata": {},
   "outputs": [],
   "source": [
    "import re\n",
    "import subprocess\n"
   ]
  },
  {
   "cell_type": "code",
   "execution_count": 30,
   "metadata": {},
   "outputs": [],
   "source": [
    "header = '''\n",
    "\n",
    "<!--\n",
    "pandoc -V fontsize=12pt -V papersize:\"a4paper\" -V geometry:geometry:margin=1in\n",
    "-->\n",
    "\n",
    "![logga GU](https://www.gu.se/digitalAssets/702/702071_logtotyp_1.gif){ width=25% }\\\n",
    "\n",
    "\n",
    "'''\n",
    "\n",
    "middle = '''\n",
    "\n",
    "## Frågeformulär utvärdering Twitter/Gephi-moment, Del 1.\n",
    "\n",
    "*1. Vilket/vilka moment upplevde du vara svårast i Inlämningsuppgift 2*\n",
    "\n",
    "*\n",
    "*\n",
    "*\n",
    "\n",
    "*2. Hur löste du uppgiften? Ange korta nyckelord exempelvis \"Google\", \"Youtube\", \"Frågade kurskamrater\" osv.*\n",
    "\n",
    "*\n",
    "*\n",
    "*\n",
    "\n",
    "*3. Upplevde du att du hade all information som krävdes för att lösa uppgiften? Om inte, vilken information tycker du saknades?*\n",
    "\n",
    "*\n",
    "*\n",
    "*\n",
    "\n",
    "*4. Hur relevant upplever du att uppgiften var för kursen Kommunikation i nya och sociala medier? Ringa in en siffra på skalan 0-10 (0-inte alls relevant, 10-mycket relevant)*\n",
    "\n",
    "\t0   1   2   3   4   5   6   7   8   9   10\n",
    "\n",
    "\n",
    "*5. Hur relevant upplever du att uppgiften var för yrkesrollen kommunikatör i offentlig förvaltning? Ringa in en siffra på skalan 0-10 (0-inte alls relevant, 10-mycket relevant)*\n",
    "\n",
    "\t0   1   2   3   4   5   6   7   8   9   10\n",
    "'''\n",
    "\n",
    "\n",
    "\n",
    "middle2 = '''\\n\n",
    "##Frågeformulär utvärdering Twitter/Gephi-moment, Del 2.\n",
    "\n",
    "\n",
    "'''\n",
    "\n",
    "\n",
    "footer = '''\n",
    "\n",
    "*1. Vilket/vilka moment upplevde du vara svårast i den slutgiltiga examinationsuppgiften?*\n",
    "\n",
    "*\n",
    "*\n",
    "*\n",
    "\n",
    "*2. Beskriv med korta nyckelord vilka moment som du skulle velat ha mer information/undervisning om för att färdigställa examinationsuppgiften. Om du upplever att ingen mera information behövs kan du lämna denna fråga obesvarad.*\n",
    "\n",
    "*\n",
    "*\n",
    "*\n",
    "\n",
    "*3. Upplevde du att de empiriska delarna när du samlade in och analyserade data var relevanta för att belysa de teorier och perspektiv som diskuterats under kursen? Ringa in en siffra på skalan 0-10 (0-inte alls relevant, 10-mycket relevant)*\n",
    "\n",
    "\t0   1   2   3   4   5   6   7   8   9   10\n",
    "\n",
    "\n",
    "*4. I vilken utsträckning upplever du att du har fått nya kunskaper och färdigheter för att kunna analysera sociala medier? Ringa in en siffra på skalan 0-10 (0-inga kunskaper alls, 10-många kunskaper)*\n",
    "\n",
    "\t0   1   2   3   4   5   6   7   8   9   10\n",
    "\n",
    "\n",
    "*5. Har du ytterligare några kommentarer i anslutning till kursmomenten där vi samlat in och analyserat data från sociala medier? (fritextsvar)*\n",
    "\n",
    "'''"
   ]
  },
  {
   "cell_type": "code",
   "execution_count": 31,
   "metadata": {},
   "outputs": [],
   "source": [
    "with open('enumeratedforms.md', 'w') as outfile: \n",
    "    counter = 0\n",
    "    for number in range(0,25):\n",
    "        counter += 1\n",
    "        outfile.write(header)\n",
    "        outfile.write(\"\\n\")\n",
    "        outfile.write(\"Anonymt löpnummer: \" + str(counter) + \"\\n\")\n",
    "        outfile.write(middle)\n",
    "        outfile.write(r'''\\newpage''')\n",
    "        outfile.write(middle2)\n",
    "        outfile.write(\"Anonymt löpnummer: \" + str(counter)+ \"\\n\")\n",
    "        outfile.write(footer)\n",
    "        outfile.write(r'''\\newpage''')\n",
    "\n"
   ]
  },
  {
   "cell_type": "code",
   "execution_count": 32,
   "metadata": {},
   "outputs": [
    {
     "data": {
      "text/plain": [
       "CompletedProcess(args=['pandoc', '-V', 'fontsize=12pt', '-V', 'papersize:\"a4paper\"', '-V', 'geometry:margin=1in', 'enumeratedforms.md', '-fmarkdown-implicit_figures', '-o', 'enumeratedforms.pdf'], returncode=0, stdout=b'')"
      ]
     },
     "execution_count": 32,
     "metadata": {},
     "output_type": "execute_result"
    }
   ],
   "source": [
    "subprocess.run(['pandoc',  \n",
    "                '-V', 'fontsize=12pt', '-V',\n",
    "                'papersize:\"a4paper\"', '-V', 'geometry:margin=1in',\n",
    "                 'enumeratedforms.md', '-fmarkdown-implicit_figures', '-o', 'enumeratedforms.pdf'], stdout=subprocess.PIPE)\n",
    "\n"
   ]
  },
  {
   "cell_type": "code",
   "execution_count": null,
   "metadata": {},
   "outputs": [],
   "source": []
  },
  {
   "cell_type": "code",
   "execution_count": null,
   "metadata": {},
   "outputs": [],
   "source": []
  }
 ],
 "metadata": {
  "kernelspec": {
   "display_name": "Python 3",
   "language": "python",
   "name": "python3"
  },
  "language_info": {
   "codemirror_mode": {
    "name": "ipython",
    "version": 3
   },
   "file_extension": ".py",
   "mimetype": "text/x-python",
   "name": "python",
   "nbconvert_exporter": "python",
   "pygments_lexer": "ipython3",
   "version": "3.6.4"
  }
 },
 "nbformat": 4,
 "nbformat_minor": 2
}

{
 "cells": [
  {
   "cell_type": "code",
   "execution_count": 1,
   "metadata": {},
   "outputs": [],
   "source": [
    "import pandas as pd\n",
    "from collections import Counter"
   ]
  },
  {
   "cell_type": "markdown",
   "metadata": {},
   "source": [
    "## Survey 1, Theory\n",
    "\n",
    "**Coding**\n",
    "\n",
    "*1. Vilket/vilka moment upplevde du vara svårast i Inlämningsuppgift 1? Ange korta nyckelord, ex. \"litteraturen\", \"föreläsningarna\", osv.*\n",
    "\n",
    "    str\n",
    "\n",
    "*2. Vilka insikter/kunskaper upplever du att du fått under de teoretiska momenten? Ange korta nyckelord.*\n",
    "\n",
    "    str\n",
    "\n",
    "*3. Upplevde du att du hade all information som krävdes för att lösa inlämningsuppgift 1? Om inte, vilken information tycker du saknades?*7\n",
    "\n",
    "    str\n",
    "\n",
    "*4. Hur relevant upplever du att de teoretiska momenten var för kursen Kommunikation i nya och sociala medier? Ringa in en siffra på skalan 0-10 (0-inte alls relevant, 10-mycket relevant)*\n",
    "\n",
    "    int 0-10\n",
    "\n",
    "*5. Hur relevant upplever du att de teoretiska momenten var för yrkesrollen kommunikatör i offentlig förvaltning? Ringa in en siffra på skalan 0-10 (0-inte alls relevant, 10-mycket relevant)*\n",
    "\n",
    "    int 0-10"
   ]
  },
  {
   "cell_type": "code",
   "execution_count": 2,
   "metadata": {},
   "outputs": [],
   "source": [
    "df1 = pd.read_csv(\"data/survey_theory.csv\")"
   ]
  },
  {
   "cell_type": "code",
   "execution_count": 3,
   "metadata": {},
   "outputs": [
    {
     "data": {
      "text/html": [
       "<div>\n",
       "<style scoped>\n",
       "    .dataframe tbody tr th:only-of-type {\n",
       "        vertical-align: middle;\n",
       "    }\n",
       "\n",
       "    .dataframe tbody tr th {\n",
       "        vertical-align: top;\n",
       "    }\n",
       "\n",
       "    .dataframe thead th {\n",
       "        text-align: right;\n",
       "    }\n",
       "</style>\n",
       "<table border=\"1\" class=\"dataframe\">\n",
       "  <thead>\n",
       "    <tr style=\"text-align: right;\">\n",
       "      <th></th>\n",
       "      <th>ID</th>\n",
       "      <th>Q1A</th>\n",
       "      <th>Q1B</th>\n",
       "      <th>Q1C</th>\n",
       "      <th>Q2A</th>\n",
       "      <th>Q2B</th>\n",
       "      <th>Q2C</th>\n",
       "      <th>Q3A</th>\n",
       "      <th>Q3B</th>\n",
       "      <th>Q3C</th>\n",
       "      <th>Q4</th>\n",
       "      <th>Q5</th>\n",
       "    </tr>\n",
       "  </thead>\n",
       "  <tbody>\n",
       "    <tr>\n",
       "      <th>0</th>\n",
       "      <td>1</td>\n",
       "      <td>testar</td>\n",
       "      <td>testar lite till</td>\n",
       "      <td>NaN</td>\n",
       "      <td>testar3</td>\n",
       "      <td>testt</td>\n",
       "      <td>lllllll</td>\n",
       "      <td>täst</td>\n",
       "      <td>NaN</td>\n",
       "      <td>NaN</td>\n",
       "      <td>8.0</td>\n",
       "      <td>8.0</td>\n",
       "    </tr>\n",
       "    <tr>\n",
       "      <th>1</th>\n",
       "      <td>2</td>\n",
       "      <td>eee</td>\n",
       "      <td>rrr</td>\n",
       "      <td>NaN</td>\n",
       "      <td>NaN</td>\n",
       "      <td>NaN</td>\n",
       "      <td>NaN</td>\n",
       "      <td>NaN</td>\n",
       "      <td>NaN</td>\n",
       "      <td>NaN</td>\n",
       "      <td>4.0</td>\n",
       "      <td>8.0</td>\n",
       "    </tr>\n",
       "    <tr>\n",
       "      <th>2</th>\n",
       "      <td>3</td>\n",
       "      <td>rrr</td>\n",
       "      <td>rrr</td>\n",
       "      <td>NaN</td>\n",
       "      <td>NaN</td>\n",
       "      <td>NaN</td>\n",
       "      <td>NaN</td>\n",
       "      <td>NaN</td>\n",
       "      <td>NaN</td>\n",
       "      <td>NaN</td>\n",
       "      <td>6.0</td>\n",
       "      <td>8.0</td>\n",
       "    </tr>\n",
       "    <tr>\n",
       "      <th>3</th>\n",
       "      <td>4</td>\n",
       "      <td>rrr</td>\n",
       "      <td>rrr</td>\n",
       "      <td>NaN</td>\n",
       "      <td>NaN</td>\n",
       "      <td>NaN</td>\n",
       "      <td>NaN</td>\n",
       "      <td>NaN</td>\n",
       "      <td>NaN</td>\n",
       "      <td>NaN</td>\n",
       "      <td>8.0</td>\n",
       "      <td>8.0</td>\n",
       "    </tr>\n",
       "    <tr>\n",
       "      <th>4</th>\n",
       "      <td>5</td>\n",
       "      <td>NaN</td>\n",
       "      <td>NaN</td>\n",
       "      <td>NaN</td>\n",
       "      <td>NaN</td>\n",
       "      <td>NaN</td>\n",
       "      <td>NaN</td>\n",
       "      <td>NaN</td>\n",
       "      <td>NaN</td>\n",
       "      <td>NaN</td>\n",
       "      <td>8.0</td>\n",
       "      <td>8.0</td>\n",
       "    </tr>\n",
       "  </tbody>\n",
       "</table>\n",
       "</div>"
      ],
      "text/plain": [
       "   ID     Q1A               Q1B  Q1C      Q2A    Q2B      Q2C   Q3A  Q3B  Q3C  \\\n",
       "0   1  testar  testar lite till  NaN  testar3  testt  lllllll  täst  NaN  NaN   \n",
       "1   2     eee               rrr  NaN      NaN    NaN      NaN   NaN  NaN  NaN   \n",
       "2   3     rrr               rrr  NaN      NaN    NaN      NaN   NaN  NaN  NaN   \n",
       "3   4     rrr               rrr  NaN      NaN    NaN      NaN   NaN  NaN  NaN   \n",
       "4   5     NaN               NaN  NaN      NaN    NaN      NaN   NaN  NaN  NaN   \n",
       "\n",
       "    Q4   Q5  \n",
       "0  8.0  8.0  \n",
       "1  4.0  8.0  \n",
       "2  6.0  8.0  \n",
       "3  8.0  8.0  \n",
       "4  8.0  8.0  "
      ]
     },
     "execution_count": 3,
     "metadata": {},
     "output_type": "execute_result"
    }
   ],
   "source": [
    "df1.head()"
   ]
  },
  {
   "cell_type": "code",
   "execution_count": 4,
   "metadata": {},
   "outputs": [
    {
     "name": "stdout",
     "output_type": "stream",
     "text": [
      "Showing results for: \n",
      "Vilket/vilka moment upplevde du vara svårast i Inlämningsuppgift 1?\n",
      "Q1A\n",
      "Q1B\n",
      "Q1C\n",
      "\n",
      "Result:  ['testar', 'eee', 'rrr', 'rrr', 'ööö', 'testar lite till', 'rrr', 'rrr', 'rrr', 'ö', 'ö']\n",
      "\n",
      "Keyword frequencies:\n",
      "rrr  -  5\n",
      "ö  -  2\n",
      "eee  -  1\n",
      "ööö  -  1\n",
      "testar  -  1\n",
      "testar lite till  -  1\n"
     ]
    }
   ],
   "source": [
    "Q1results = []\n",
    "\n",
    "print(\"Showing results for: \")\n",
    "print(\"Vilket/vilka moment upplevde du vara svårast i Inlämningsuppgift 1?\")\n",
    "for row in df1.iloc[:, 1:4]:\n",
    "    print(row)\n",
    "    for n in df1[row]:\n",
    "        if type(n) == str:\n",
    "            Q1results.append(n)\n",
    "        \n",
    "print(\"\\nResult: \", Q1results)\n",
    "print(\"\\nKeyword frequencies:\")\n",
    "for freq in Counter(Q1results).most_common():\n",
    "    print(freq[0], \" - \", freq[1])"
   ]
  },
  {
   "cell_type": "code",
   "execution_count": 5,
   "metadata": {},
   "outputs": [
    {
     "name": "stdout",
     "output_type": "stream",
     "text": [
      "Showing results for: \n",
      "Vilka insikter/kunskaper upplever du att du fått under de teoretiska momenten?\n",
      "Q2A\n",
      "Q2B\n",
      "Q2C\n",
      "\n",
      "Result:  ['testar3', 'ö', 'testt', 'ö', 'lllllll', 'ö']\n",
      "\n",
      "Keyword frequencies:\n",
      "ö  -  3\n",
      "testar3  -  1\n",
      "testt  -  1\n",
      "lllllll  -  1\n"
     ]
    }
   ],
   "source": [
    "Q2results = []\n",
    "\n",
    "print(\"Showing results for: \")\n",
    "print(\"Vilka insikter/kunskaper upplever du att du fått under de teoretiska momenten?\")\n",
    "for row in df1.iloc[:, 4:7]:\n",
    "    print(row)\n",
    "    for n in df1[row]:\n",
    "        if type(n) == str:\n",
    "            Q2results.append(n)\n",
    "        \n",
    "print(\"\\nResult: \", Q2results)\n",
    "print(\"\\nKeyword frequencies:\")\n",
    "for freq in Counter(Q2results).most_common():\n",
    "    print(freq[0], \" - \", freq[1])"
   ]
  },
  {
   "cell_type": "code",
   "execution_count": 6,
   "metadata": {},
   "outputs": [
    {
     "name": "stdout",
     "output_type": "stream",
     "text": [
      "Showing results for: \n",
      "Upplevde du att du hade all information som krävdes för att lösa inlämningsuppgift 1?\n",
      "Q3A\n",
      "Q3B\n",
      "Q3C\n",
      "\n",
      "Result:  ['täst', 'ö', 'ö', 'ö']\n",
      "\n",
      "Keyword frequencies:\n",
      "ö  -  3\n",
      "täst  -  1\n"
     ]
    }
   ],
   "source": [
    "Q3results = []\n",
    "\n",
    "print(\"Showing results for: \")\n",
    "print(\"Upplevde du att du hade all information som krävdes för att lösa inlämningsuppgift 1?\")\n",
    "for row in df1.iloc[:, 7:10]:\n",
    "    print(row)\n",
    "    for n in df1[row]:\n",
    "        if type(n) == str:\n",
    "            Q3results.append(n)\n",
    "        \n",
    "print(\"\\nResult: \", Q3results)\n",
    "print(\"\\nKeyword frequencies:\")\n",
    "for freq in Counter(Q3results).most_common():\n",
    "    print(freq[0], \" - \", freq[1])"
   ]
  },
  {
   "cell_type": "code",
   "execution_count": 7,
   "metadata": {},
   "outputs": [
    {
     "name": "stdout",
     "output_type": "stream",
     "text": [
      "Hur relevant upplever du att de teoretiska momenten var för kursen Kommunikation i nya och sociala medier?\n",
      "Mean = 5.071428571428571\n",
      "Median = 5.5\n",
      "Std = 2.1290765681316004\n"
     ]
    }
   ],
   "source": [
    "print(\"Hur relevant upplever du att de teoretiska momenten var för kursen Kommunikation i nya och sociala medier?\")\n",
    "df1.Q4.value_counts().plot.bar(x=\"Score\", rot=0, subplots=True)\n",
    "print(\"Mean = \" + str(df1.Q4.mean()))\n",
    "print(\"Median = \" + str(df1.Q4.median()))\n",
    "print(\"Std = \" + str(df1.Q4.std()))"
   ]
  },
  {
   "cell_type": "code",
   "execution_count": 8,
   "metadata": {},
   "outputs": [
    {
     "name": "stdout",
     "output_type": "stream",
     "text": [
      "Hur relevant upplever du att de teoretiska momenten var för yrkesrollen kommunikatör i offentlig förvaltning?\n",
      "Mean = 8.5\n",
      "Median = 8.5\n",
      "Std = 0.5188745216627708\n"
     ]
    },
    {
     "data": {
      "image/png": "[encoded data removed]",
      "text/plain": [
       "<Figure size 432x288 with 1 Axes>"
      ]
     },
     "metadata": {},
     "output_type": "display_data"
    }
   ],
   "source": [
    "print(\"Hur relevant upplever du att de teoretiska momenten var för yrkesrollen kommunikatör i offentlig förvaltning?\")\n",
    "df1.Q5.value_counts().plot.bar(x=\"Score\", rot=0, subplots=True)\n",
    "print(\"Mean = \" + str(df1.Q5.mean()))\n",
    "print(\"Median = \" + str(df1.Q5.median()))\n",
    "print(\"Std = \" + str(df1.Q5.std()))"
   ]
  },
  {
   "cell_type": "code",
   "execution_count": null,
   "metadata": {},
   "outputs": [],
   "source": []
  },
  {
   "cell_type": "code",
   "execution_count": null,
   "metadata": {},
   "outputs": [],
   "source": []
  },
  {
   "cell_type": "code",
   "execution_count": null,
   "metadata": {},
   "outputs": [],
   "source": []
  }
 ],
 "metadata": {
  "kernelspec": {
   "display_name": "Python 3",
   "language": "python",
   "name": "python3"
  },
  "language_info": {
   "codemirror_mode": {
    "name": "ipython",
    "version": 3
   },
   "file_extension": ".py",
   "mimetype": "text/x-python",
   "name": "python",
   "nbconvert_exporter": "python",
   "pygments_lexer": "ipython3",
   "version": "3.5.5"
  }
 },
 "nbformat": 4,
 "nbformat_minor": 2
}

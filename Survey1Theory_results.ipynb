{
 "cells": [
  {
   "cell_type": "code",
   "execution_count": 1,
   "metadata": {},
   "outputs": [],
   "source": [
    "import pandas as pd\n",
    "from collections import Counter"
   ]
  },
  {
   "cell_type": "markdown",
   "metadata": {},
   "source": [
    "## Survey 1, Theory\n",
    "\n",
    "**Coding**\n",
    "\n",
    "*1. Vilket/vilka moment upplevde du vara svårast i Inlämningsuppgift 1? Ange korta nyckelord, ex. \"litteraturen\", \"föreläsningarna\", osv.*\n",
    "\n",
    "    str\n",
    "\n",
    "*2. Vilka insikter/kunskaper upplever du att du fått under de teoretiska momenten? Ange korta nyckelord.*\n",
    "\n",
    "    str\n",
    "\n",
    "*3. Upplevde du att du hade all information som krävdes för att lösa inlämningsuppgift 1? Om inte, vilken information tycker du saknades?*7\n",
    "\n",
    "    str\n",
    "\n",
    "*4. Hur relevant upplever du att de teoretiska momenten var för kursen Kommunikation i nya och sociala medier? Ringa in en siffra på skalan 0-10 (0-inte alls relevant, 10-mycket relevant)*\n",
    "\n",
    "    int 0-10\n",
    "\n",
    "*5. Hur relevant upplever du att de teoretiska momenten var för yrkesrollen kommunikatör i offentlig förvaltning? Ringa in en siffra på skalan 0-10 (0-inte alls relevant, 10-mycket relevant)*\n",
    "\n",
    "    int 0-10\n",
    "    \n",
    "\n",
    "The scanned questionnaires can be found on [https://github.com/christopherkullenberg/KT2102Evaluations/tree/master/raw_survey_data/Survey1Theory](https://github.com/christopherkullenberg/KT2102Evaluations/tree/master/raw_survey_data/Survey1Theory)"
   ]
  },
  {
   "cell_type": "code",
   "execution_count": 13,
   "metadata": {},
   "outputs": [
    {
     "name": "stdout",
     "output_type": "stream",
     "text": [
      "N = 17\n"
     ]
    }
   ],
   "source": [
    "df1 = pd.read_csv(\"data/survey_theory.csv\")\n",
    "print(\"N =\", str(len(df1)))"
   ]
  },
  {
   "cell_type": "code",
   "execution_count": 3,
   "metadata": {},
   "outputs": [
    {
     "data": {
      "text/html": [
       "<div>\n",
       "<style scoped>\n",
       "    .dataframe tbody tr th:only-of-type {\n",
       "        vertical-align: middle;\n",
       "    }\n",
       "\n",
       "    .dataframe tbody tr th {\n",
       "        vertical-align: top;\n",
       "    }\n",
       "\n",
       "    .dataframe thead th {\n",
       "        text-align: right;\n",
       "    }\n",
       "</style>\n",
       "<table border=\"1\" class=\"dataframe\">\n",
       "  <thead>\n",
       "    <tr style=\"text-align: right;\">\n",
       "      <th></th>\n",
       "      <th>ID</th>\n",
       "      <th>Q1A</th>\n",
       "      <th>Q1B</th>\n",
       "      <th>Q1C</th>\n",
       "      <th>Q2A</th>\n",
       "      <th>Q2B</th>\n",
       "      <th>Q2C</th>\n",
       "      <th>Q3A</th>\n",
       "      <th>Q3B</th>\n",
       "      <th>Q3C</th>\n",
       "      <th>Q4</th>\n",
       "      <th>Q5</th>\n",
       "    </tr>\n",
       "  </thead>\n",
       "  <tbody>\n",
       "    <tr>\n",
       "      <th>0</th>\n",
       "      <td>1</td>\n",
       "      <td>hålla det kort</td>\n",
       "      <td>exemplifiera</td>\n",
       "      <td>NaN</td>\n",
       "      <td>begrepp</td>\n",
       "      <td>NaN</td>\n",
       "      <td>NaN</td>\n",
       "      <td>ja</td>\n",
       "      <td>NaN</td>\n",
       "      <td>NaN</td>\n",
       "      <td>10</td>\n",
       "      <td>10</td>\n",
       "    </tr>\n",
       "    <tr>\n",
       "      <th>1</th>\n",
       "      <td>2</td>\n",
       "      <td>föreläsningar svävande</td>\n",
       "      <td>NaN</td>\n",
       "      <td>NaN</td>\n",
       "      <td>begrepp</td>\n",
       "      <td>digital forskning</td>\n",
       "      <td>NaN</td>\n",
       "      <td>NaN</td>\n",
       "      <td>NaN</td>\n",
       "      <td>NaN</td>\n",
       "      <td>10</td>\n",
       "      <td>10</td>\n",
       "    </tr>\n",
       "    <tr>\n",
       "      <th>2</th>\n",
       "      <td>3</td>\n",
       "      <td>formulera fråga</td>\n",
       "      <td>hålla det kort</td>\n",
       "      <td>NaN</td>\n",
       "      <td>förankring I forskning</td>\n",
       "      <td>NaN</td>\n",
       "      <td>NaN</td>\n",
       "      <td>källhänvisningar</td>\n",
       "      <td>NaN</td>\n",
       "      <td>NaN</td>\n",
       "      <td>10</td>\n",
       "      <td>10</td>\n",
       "    </tr>\n",
       "    <tr>\n",
       "      <th>3</th>\n",
       "      <td>4</td>\n",
       "      <td>artiklarna</td>\n",
       "      <td>NaN</td>\n",
       "      <td>NaN</td>\n",
       "      <td>NaN</td>\n",
       "      <td>NaN</td>\n",
       "      <td>NaN</td>\n",
       "      <td>ja</td>\n",
       "      <td>NaN</td>\n",
       "      <td>NaN</td>\n",
       "      <td>10</td>\n",
       "      <td>10</td>\n",
       "    </tr>\n",
       "    <tr>\n",
       "      <th>4</th>\n",
       "      <td>5</td>\n",
       "      <td>källhänvisningar</td>\n",
       "      <td>akademisk nivå</td>\n",
       "      <td>NaN</td>\n",
       "      <td>begrepp</td>\n",
       "      <td>NaN</td>\n",
       "      <td>NaN</td>\n",
       "      <td>NaN</td>\n",
       "      <td>NaN</td>\n",
       "      <td>NaN</td>\n",
       "      <td>10</td>\n",
       "      <td>10</td>\n",
       "    </tr>\n",
       "  </tbody>\n",
       "</table>\n",
       "</div>"
      ],
      "text/plain": [
       "   ID                     Q1A             Q1B  Q1C                     Q2A  \\\n",
       "0   1          hålla det kort    exemplifiera  NaN                 begrepp   \n",
       "1   2  föreläsningar svävande             NaN  NaN                 begrepp   \n",
       "2   3         formulera fråga  hålla det kort  NaN  förankring I forskning   \n",
       "3   4              artiklarna             NaN  NaN                     NaN   \n",
       "4   5        källhänvisningar  akademisk nivå  NaN                 begrepp   \n",
       "\n",
       "                 Q2B  Q2C               Q3A  Q3B  Q3C  Q4  Q5  \n",
       "0                NaN  NaN                ja  NaN  NaN  10  10  \n",
       "1  digital forskning  NaN               NaN  NaN  NaN  10  10  \n",
       "2                NaN  NaN  källhänvisningar  NaN  NaN  10  10  \n",
       "3                NaN  NaN                ja  NaN  NaN  10  10  \n",
       "4                NaN  NaN               NaN  NaN  NaN  10  10  "
      ]
     },
     "execution_count": 3,
     "metadata": {},
     "output_type": "execute_result"
    }
   ],
   "source": [
    "df1.head()"
   ]
  },
  {
   "cell_type": "code",
   "execution_count": 4,
   "metadata": {},
   "outputs": [
    {
     "name": "stdout",
     "output_type": "stream",
     "text": [
      "Showing results for: \n",
      "Vilket/vilka moment upplevde du vara svårast i Inlämningsuppgift 1?\n",
      "Q1A\n",
      "Q1B\n",
      "Q1C\n",
      "\n",
      "Result:  ['hålla det kort', 'föreläsningar svävande', 'formulera fråga', 'artiklarna', 'källhänvisningar', 'hålla det kort', 'beskrivning av uppgift', 'artiklarna', 'upplägget', 'begrepp', 'nivå', 'litteratur', 'exemplifiera', 'hålla det kort', 'litteratur', 'välja fråga', 'hinna med att läsa', 'exemplifiera', 'hålla det kort', 'akademisk nivå', 'litteratur', 'hålla det kort', 'svårt att hitta djup I litteratur', 'målgrupp', 'stor valfrihet']\n",
      "\n",
      "Keyword frequencies:\n",
      "hålla det kort  -  5\n",
      "litteratur  -  3\n",
      "artiklarna  -  2\n",
      "exemplifiera  -  2\n",
      "föreläsningar svävande  -  1\n",
      "formulera fråga  -  1\n",
      "källhänvisningar  -  1\n",
      "beskrivning av uppgift  -  1\n",
      "upplägget  -  1\n",
      "begrepp  -  1\n",
      "nivå  -  1\n",
      "välja fråga  -  1\n",
      "hinna med att läsa  -  1\n",
      "akademisk nivå  -  1\n",
      "svårt att hitta djup I litteratur  -  1\n",
      "målgrupp  -  1\n",
      "stor valfrihet  -  1\n"
     ]
    }
   ],
   "source": [
    "Q1results = []\n",
    "\n",
    "print(\"Showing results for: \")\n",
    "print(\"Vilket/vilka moment upplevde du vara svårast i Inlämningsuppgift 1?\")\n",
    "for row in df1.iloc[:, 1:4]:\n",
    "    print(row)\n",
    "    for n in df1[row]:\n",
    "        if type(n) == str:\n",
    "            Q1results.append(n)\n",
    "        \n",
    "print(\"\\nResult: \", Q1results)\n",
    "print(\"\\nKeyword frequencies:\")\n",
    "for freq in Counter(Q1results).most_common():\n",
    "    print(freq[0], \" - \", freq[1])"
   ]
  },
  {
   "cell_type": "code",
   "execution_count": 5,
   "metadata": {},
   "outputs": [
    {
     "name": "stdout",
     "output_type": "stream",
     "text": [
      "Showing results for: \n",
      "Vilka insikter/kunskaper upplever du att du fått under de teoretiska momenten?\n",
      "Q2A\n",
      "Q2B\n",
      "Q2C\n",
      "\n",
      "Result:  ['begrepp', 'begrepp', 'förankring I forskning', 'begrepp', 'sociala medier I organisationer', 'digitalt samhälle', 'begrepp', 'perspektiv', 'anpassning till teknologi', 'begrepp', 'förståelse', 'digitalt samhälle', 'begrepp', 'insikt I huvudämnet', 'digitalt samhälle', 'Lindgrens bok', 'digital forskning', 'fördelar och nackdelar med sociala medier', 'kommunikation I sociala medier', 'samverkan teknik och människa', 'källhänvisningar', 'hur man påverkas av sociala medier', 'perspektiv', 'perspektiv', 'seminarium', 'förståelse för forskning']\n",
      "\n",
      "Keyword frequencies:\n",
      "begrepp  -  6\n",
      "digitalt samhälle  -  3\n",
      "perspektiv  -  3\n",
      "förankring I forskning  -  1\n",
      "sociala medier I organisationer  -  1\n",
      "anpassning till teknologi  -  1\n",
      "förståelse  -  1\n",
      "insikt I huvudämnet  -  1\n",
      "Lindgrens bok  -  1\n",
      "digital forskning  -  1\n",
      "fördelar och nackdelar med sociala medier  -  1\n",
      "kommunikation I sociala medier  -  1\n",
      "samverkan teknik och människa  -  1\n",
      "källhänvisningar  -  1\n",
      "hur man påverkas av sociala medier  -  1\n",
      "seminarium  -  1\n",
      "förståelse för forskning  -  1\n"
     ]
    }
   ],
   "source": [
    "Q2results = []\n",
    "\n",
    "print(\"Showing results for: \")\n",
    "print(\"Vilka insikter/kunskaper upplever du att du fått under de teoretiska momenten?\")\n",
    "for row in df1.iloc[:, 4:7]:\n",
    "    print(row)\n",
    "    for n in df1[row]:\n",
    "        if type(n) == str:\n",
    "            Q2results.append(n)\n",
    "        \n",
    "print(\"\\nResult: \", Q2results)\n",
    "print(\"\\nKeyword frequencies:\")\n",
    "for freq in Counter(Q2results).most_common():\n",
    "    print(freq[0], \" - \", freq[1])"
   ]
  },
  {
   "cell_type": "code",
   "execution_count": 6,
   "metadata": {},
   "outputs": [
    {
     "name": "stdout",
     "output_type": "stream",
     "text": [
      "Showing results for: \n",
      "Upplevde du att du hade all information som krävdes för att lösa inlämningsuppgift 1?\n",
      "Q3A\n",
      "Q3B\n",
      "Q3C\n",
      "\n",
      "Result:  ['ja', 'källhänvisningar', 'ja', 'ja', 'tydlig information om examination', 'källhänvisningar', 'ja', 'ja', 'tidsbrist på föreläsningar', 'oklart om exemplifiering', 'ja', 'ja', 'ja', 'ja', 'antal tecken ospecificerat', 'mer info om föreläsningar', 'ja', 'oklart om målgrupp', 'mer genomgång av begrepp']\n",
      "\n",
      "Keyword frequencies:\n",
      "ja  -  10\n",
      "källhänvisningar  -  2\n",
      "tydlig information om examination  -  1\n",
      "tidsbrist på föreläsningar  -  1\n",
      "oklart om exemplifiering  -  1\n",
      "antal tecken ospecificerat  -  1\n",
      "mer info om föreläsningar  -  1\n",
      "oklart om målgrupp  -  1\n",
      "mer genomgång av begrepp  -  1\n"
     ]
    }
   ],
   "source": [
    "Q3results = []\n",
    "\n",
    "print(\"Showing results for: \")\n",
    "print(\"Upplevde du att du hade all information som krävdes för att lösa inlämningsuppgift 1?\")\n",
    "for row in df1.iloc[:, 7:10]:\n",
    "    print(row)\n",
    "    for n in df1[row]:\n",
    "        if type(n) == str:\n",
    "            Q3results.append(n)\n",
    "        \n",
    "print(\"\\nResult: \", Q3results)\n",
    "print(\"\\nKeyword frequencies:\")\n",
    "for freq in Counter(Q3results).most_common():\n",
    "    print(freq[0], \" - \", freq[1])"
   ]
  },
  {
   "cell_type": "code",
   "execution_count": 9,
   "metadata": {},
   "outputs": [
    {
     "name": "stdout",
     "output_type": "stream",
     "text": [
      "Hur relevant upplever du att de teoretiska momenten var för kursen Kommunikation i nya och sociala medier?\n",
      "Mean = 9.352941176470589\n",
      "Median = 10.0\n",
      "Std = 0.9963167462326074\n"
     ]
    },
    {
     "data": {
      "image/png": "[encoded data removed]",
      "text/plain": [
       "<matplotlib.figure.Figure at 0x7fc7be041cf8>"
      ]
     },
     "metadata": {},
     "output_type": "display_data"
    }
   ],
   "source": [
    "print(\"Hur relevant upplever du att de teoretiska momenten var för kursen Kommunikation i nya och sociala medier?\")\n",
    "df1.Q4.value_counts().plot.bar(x=\"Score\", rot=0, subplots=True)\n",
    "print(\"Mean = \" + str(df1.Q4.mean()))\n",
    "print(\"Median = \" + str(df1.Q4.median()))\n",
    "print(\"Std = \" + str(df1.Q4.std()))"
   ]
  },
  {
   "cell_type": "code",
   "execution_count": 8,
   "metadata": {},
   "outputs": [
    {
     "name": "stdout",
     "output_type": "stream",
     "text": [
      "Hur relevant upplever du att de teoretiska momenten var för yrkesrollen kommunikatör i offentlig förvaltning?\n",
      "Mean = 8.764705882352942\n",
      "Median = 10.0\n",
      "Std = 1.8550408272025267\n"
     ]
    },
    {
     "data": {
      "image/png": "[encoded data removed]",
      "text/plain": [
       "<matplotlib.figure.Figure at 0x7fc7be120e48>"
      ]
     },
     "metadata": {},
     "output_type": "display_data"
    }
   ],
   "source": [
    "print(\"Hur relevant upplever du att de teoretiska momenten var för yrkesrollen kommunikatör i offentlig förvaltning?\")\n",
    "df1.Q5.value_counts().plot.bar(x=\"Score\", rot=0, subplots=True)\n",
    "print(\"Mean = \" + str(df1.Q5.mean()))\n",
    "print(\"Median = \" + str(df1.Q5.median()))\n",
    "print(\"Std = \" + str(df1.Q5.std()))"
   ]
  },
  {
   "cell_type": "code",
   "execution_count": null,
   "metadata": {},
   "outputs": [],
   "source": []
  },
  {
   "cell_type": "code",
   "execution_count": null,
   "metadata": {},
   "outputs": [],
   "source": []
  },
  {
   "cell_type": "code",
   "execution_count": null,
   "metadata": {},
   "outputs": [],
   "source": []
  }
 ],
 "metadata": {
  "kernelspec": {
   "display_name": "Python 3",
   "language": "python",
   "name": "python3"
  },
  "language_info": {
   "codemirror_mode": {
    "name": "ipython",
    "version": 3
   },
   "file_extension": ".py",
   "mimetype": "text/x-python",
   "name": "python",
   "nbconvert_exporter": "python",
   "pygments_lexer": "ipython3",
   "version": "3.5.5"
  }
 },
 "nbformat": 4,
 "nbformat_minor": 2
}

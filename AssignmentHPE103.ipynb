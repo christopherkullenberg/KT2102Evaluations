{
 "cells": [
  {
   "cell_type": "markdown",
   "metadata": {},
   "source": [
    "# Identifying and analysing instructions for learning digital research methods\n",
    "\n",
    "by Christopher Kullenberg, HPE103, Group 6.\n",
    "\n",
    "\n",
    "## Background\n",
    "The social sciences, particularly communication studies, is undergoing a methodological transformation. New digital data sets are available to both academic research and professional research, and there is a greater need both for basic research and professional knowledge to be able to understand, use and excel at analysing such data (@kullenberg2015, @batrinca2015). However, in previous iterations of a course called \"Communication in new and social media\", in which digital methods were introduced, students experienced some difficulties when learning such procedures. In previous course-evaluations the difficulties were reported to arise from A) the introduction of completely new software packages, B) a \"fear of spreadsheets\" (which some reported to have overcome during the course) and C) a lack of time to fully get acquainted with the new methods. \n",
    "\n",
    "As these skills are becoming more and more sought-after in the job market for communication students, and research in the social sciences are undergoing a methodological transformation, it is crucial that they are instructed in the correct way. The problem of how students without a technical background or previous knowledge of computer science and data analysis is, on a general level, a problem not only in higher education, but also throughout grammar school as well as professional education and in-service training. \n",
    "\n",
    "\n",
    "\n",
    "### The case\n",
    "In the course \"Communication in new and social media\" (7.5 HP) I have introduced several assignments in which students without a technical background or prior education learn how to collect, analyse and visualise data from social media. The assignment reads as follows:\n",
    "\n",
    "* Collect a sample of Twitter messages that uses a particular hashtag (for example #metoo).\n",
    "* Document the data collection process carefully (dates, sample size etc).\n",
    "* Transform the data into a network structure (the .gexf file format).\n",
    "* Visualize the data using degree network algorithms using the Gephi software package. \n",
    "\n",
    "The structure of teaching is:\n",
    "\n",
    "* One 2 hour demonstration and explanation by the teacher.\n",
    "* Two 2 hour workshop sessions in smaller groups (10-12 students).\n",
    "* One written assignment, about 2 pages. \n",
    "* Integration of the skills into a larger final thesis, in which the methodology is connected to theory.\n",
    "\n",
    "\n",
    "\n",
    "## Purpose and Research questions\n",
    "The purpose of this study is to identify and analyse the various obstacles, difficulties and impediments that occur when students without prior technical education acquire new knowledge and skills in digital research methods. The various impediments will then be discussed with the aim of finding effective pedagogical strategies for improvements, which in turn can be tested in new iterations of the course, and further studied in later research. \n",
    "\n",
    "The research questions are:\n",
    "\n",
    "* What are the main obstacles in completing the assigned task as experienced by students?\n",
    "* What are the qualities of such obstacles? (technical, theoretical, analytical et cetera)\n",
    "* What strategies and solutions do the students apply for overcoming obstacles and what resources are used (social, external sources, asking the teacher)?\n",
    "\n",
    "\n",
    "## Previous studies\n",
    "\n",
    "The specific softwares and the object of analysis (Twitter messages) are quite new. However, there has been research conducted on quantitative methods and data analysis that can be related to the topic of this article. Henshaw and Meinke noted a \"statistics anxiety\" among undergraduate political science students, and sought to find new approaches to incorporating statistics into the curriculum. Their two case studies concluded that: \n",
    "\n",
    ">[...] integrating methods instruction into substantive courses—rather than in a stand-alone methods course—further envisions research methods as a tool by which students can solidify knowledge in a particular topic area. Particularly for undergraduate-focused, liberal arts institutions, where course offerings and the range of faculty expertise may be limited, we believe our experiences show the value of this approach. (@henshaw2018)\n",
    "\n",
    "This suggests that elements of data analysis could be better appreciated among students, and thus more efficiently learned, if integrated into relevant and proper study material, rather than mere excercises. Also, this approach would put more emphasis on *active* learning, and when combined with collaborative learning in smaller groups, could have additive effects.\n",
    "\n",
    "\n",
    "\n",
    "\n",
    "## Method\n",
    "The study will administer two qualiquantitative surveys to the student population (N=25, open questions combined with numerical quantifiers). The first survey will be applied as the first assignment is submitted, which should render visible the initial concerns of the students' experiences. Then a second survey will be administered in connection to the final exam, hopefully being able to detect some form of progress and learning, and identifying further experiences of obstacles and strategies for problem-solution. The two questionnaires were anonymous, but connected with an ID-number so that the same individual can be followed-up throughout both surveys^[The results, data and code is available at the following repository: [https://github.com/christopherkullenberg/KT2102Evaluations](https://github.com/christopherkullenberg/KT2102Evaluations).].\n",
    "\n",
    "### Pilot study, survey on relevance:\n",
    "Prior to the two surveys, a relevance survey^[The data and code for the pilot survey is available in the following notebook: [https://github.com/christopherkullenberg/KT2102Evaluations/blob/master/Survey1Theory_results.ipynb](https://github.com/christopherkullenberg/KT2102Evaluations/blob/master/Survey1Theory_results.ipynb).] was made for the theoretical parts of the course X weeks into the course. The first part of the course is theoretical, and student learn sociological theories about new media and society. The purpose of the pilot study was two-fold. Firstly, the free keyword survey response options had to be tested in order to find out if such alternatives worked in a survey of this kind. Secondly, a baseline of relevance scores was desired, in order to be able to discuss the following survey results with a much needed context. Learning new skills against the backdrop of relevance is a key factor in understanding the role of motivation. If the students find the first part of the course to be relevant, the following steps into new territory and skills needed should be much shorter compared to if it is the case that the students find the course to be overall irrelevant to their studies and professional futures.\n",
    "\n",
    "The first question asked on a 0-10 scale if the students experienced the theoretical parts of the course to be relevant for the course. The mean score (N=17) was very high: 9.35. The second question was similar, but instead asked for the relevance with regards to their future professions as communication officers. The mean value was slightly lower, yet it scored 8.76 points. \n",
    "\n",
    "As this first evaluation was only made on the theoretical part of the course, it should only be regarded as a background variable. We may conclude that the student during the first weeks of the course find that it has so far been very relevant to them. \n"
   ]
  },
  {
   "cell_type": "markdown",
   "metadata": {},
   "source": [
    "## Results\n",
    "\n",
    "### Survey 1\n",
    "\n",
    "\n",
    "### Survey 2\n",
    "\n",
    "\n",
    "## Conclusion\n",
    "\n",
    "## Discussion\n",
    "\n",
    "## References"
   ]
  }
 ],
 "metadata": {
  "kernelspec": {
   "display_name": "Python 3",
   "language": "python",
   "name": "python3"
  },
  "language_info": {
   "codemirror_mode": {
    "name": "ipython",
    "version": 3
   },
   "file_extension": ".py",
   "mimetype": "text/x-python",
   "name": "python",
   "nbconvert_exporter": "python",
   "pygments_lexer": "ipython3",
   "version": "3.5.5"
  }
 },
 "nbformat": 4,
 "nbformat_minor": 2
}

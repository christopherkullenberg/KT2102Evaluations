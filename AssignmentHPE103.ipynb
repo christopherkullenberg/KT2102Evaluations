{
 "cells": [
  {
   "cell_type": "markdown",
   "metadata": {},
   "source": [
    "# Identifying and analysing instructions for learning digital research methods\n",
    "\n",
    "by Christopher Kullenberg\n",
    "\n",
    "\n",
    "## Background\n",
    "The social sciences, particularly communication studies, is undergoing a methodological transformation. New digital data sets are available to both academic research and professional research, and there is a greater need both for basic research and professional knowledge to be able to understand, use and excel at analysing such data (@kullenberg2015, @batrinca2015). \n",
    "\n",
    "\n",
    "\n",
    "### The case\n",
    "In the course \"Communication in new and social media\" (7.5 HP) I have introduced several assignments in which students without a technical background or prior education learn how to collect, analyse and visualise data from social media. The assignment reads as follows:\n",
    "\n",
    "* Collect a sample of Twitter messages that uses a particular hashtag (for example #metoo).\n",
    "\n",
    "* Document the data collection process carefully (dates, sample size etc).\n",
    "\n",
    "* Transform the data into a network structure (the .gexf file format).\n",
    "\n",
    "* Visualize the data using degree network algorithms using the Gephi software package. \n",
    "\n",
    "The structure of teaching is:\n",
    "\n",
    "* One 2 hour demonstration and explanation by the teacher.\n",
    "\n",
    "* Two 2 hour workshop sessions in smaller groups (10-12 students).\n",
    "\n",
    "* One written assignment, about 2 pages. \n",
    "\n",
    "* Integration of the skills into a larger final thesis, in which the methodology is connected to theory.\n",
    "\n",
    "\n",
    "\n",
    "\n",
    "## Purpose and Research questions\n",
    "The purpose of this study is to identify and analyse the various obstacles, difficulties and impediments that occur when students without prior technical education acquire new knowledge and skills in digital research methods. The various impediments will then be discussed with the aim of finding effective pedagogical strategies for improvements, which in turn can be tested in new iterations of the course, and further studied in later research. \n",
    "\n",
    "The research questions are:\n",
    "\n",
    "* What are the main obstacles in completing the assigned task as experienced by students?\n",
    "\n",
    "* What are the qualities of such obstacles? (technical, theoretical, analytical et cetera)\n",
    "\n",
    "* What strategies and solutions do the students apply for overcoming obstacles and what resources are used (social, external sources, asking the teacher)?\n",
    "\n",
    "\n",
    "## Previous studies\n",
    "\n",
    "The specific softwares and the object of analysis (Twitter messages) are quite new. However, there has been research conducted on quantitative methods and data analysis that can be related to the topic of this article. Henshaw and Meinke noted a \"statistics anxiety\" among undergraduate political science students, and sought to find new approaches to incorporating statistics into the curriculum. Their two case studies concluded that: \n",
    "\n",
    ">integrating methods instruction into substantive courses—rather than in a stand-alone methods course—further envisions research methods as a tool by which students can solidify knowledge in a particular topic area. Particularly for undergraduate-focused, liberal arts institutions, where course offerings and the range of faculty expertise may be limited, we believe our experiences show the value of this approach. (@henshaw2018)\n",
    "\n",
    "This suggests that elements of data analysis could be better appreciated among students, and thus more efficiently learned, if integrated into relevant and proper study material, rather than mere excercises. Also, this approach would put more emphasis on active learning, and when combined with collaborative learning in smaller groups, could have additive effects.\n",
    "\n",
    "\n",
    "\n",
    "\n",
    "## Method\n",
    "The study will administer two qualiquantitative surveys to the student population (N=25, open questions combined with numerical quantifiers). The first survey will be applied as the first assignment is submitted, which should render visible the initial concerns of the students' experiences. Then a second survey will be administered in connection to the final exam, hopefully being able to detect some form of progress and learning, and identifying further experiences of obstacles and strategies for problem-solution. The two questionnaires (Appendix 1) will be anonymous, but connected with an ID-number so that the same individual can be followed-up throughout both surveys.\n",
    "\n",
    "### Relevance pre-survey:\n",
    "Prior to the two surveys, a relevance survey was made for the theoretical parts of the course X weeks into the course. \n"
   ]
  },
  {
   "cell_type": "code",
   "execution_count": 28,
   "metadata": {},
   "outputs": [
    {
     "name": "stdout",
     "output_type": "stream",
     "text": [
      "Hur relevant upplever du att de teoretiska momenten \n",
      "    var för kursen Kommunikation i nya och sociala medier?\n",
      "Mean = 9.352941176470589\n",
      "Median = 10.0\n",
      "Std = 0.9963167462326074\n"
     ]
    },
    {
     "data": {
      "image/png": "[encoded data removed]",
      "text/plain": [
       "<matplotlib.figure.Figure at 0x7f12cb588710>"
      ]
     },
     "metadata": {},
     "output_type": "display_data"
    }
   ],
   "source": [
    "relevance_theory_course()"
   ]
  },
  {
   "cell_type": "code",
   "execution_count": 29,
   "metadata": {},
   "outputs": [
    {
     "name": "stdout",
     "output_type": "stream",
     "text": [
      "Hur relevant upplever du att de teoretiska momenten \n",
      "          var för yrkesrollen kommunikatör i offentlig förvaltning?\n",
      "Mean = 8.764705882352942\n",
      "Median = 10.0\n",
      "Std = 1.8550408272025267\n"
     ]
    },
    {
     "data": {
      "image/png": "[encoded data removed]",
      "text/plain": [
       "<matplotlib.figure.Figure at 0x7f12cb49f978>"
      ]
     },
     "metadata": {},
     "output_type": "display_data"
    }
   ],
   "source": [
    "relevance_theory_practice()"
   ]
  },
  {
   "cell_type": "markdown",
   "metadata": {},
   "source": [
    "## Results\n",
    "\n",
    "\n",
    "## Discussion\n",
    "\n",
    "\n",
    "\n"
   ]
  },
  {
   "cell_type": "markdown",
   "metadata": {},
   "source": [
    "\\newpage\n",
    "# Appendix 1"
   ]
  },
  {
   "cell_type": "code",
   "execution_count": 3,
   "metadata": {},
   "outputs": [],
   "source": [
    "import pandas as pd\n",
    "from collections import Counter"
   ]
  },
  {
   "cell_type": "markdown",
   "metadata": {},
   "source": [
    "## Survey 1, Theory\n",
    "\n",
    "**Coding**\n",
    "\n",
    "1. Vilket/vilka moment upplevde du vara svårast i Inlämningsuppgift 1? Ange korta nyckelord, ex. \"litteraturen\", \"föreläsningarna\", osv.\n",
    "2. Vilka insikter/kunskaper upplever du att du fått under de teoretiska momenten? Ange korta nyckelord.\n",
    "3. Upplevde du att du hade all information som krävdes för att lösa inlämningsuppgift 1? Om inte, vilken information tycker du saknades?\n",
    "4. Hur relevant upplever du att de teoretiska momenten var för kursen Kommunikation i nya och sociala medier? Ringa in en siffra på skalan 0-10 (0-inte alls relevant, 10-mycket relevant)\n",
    "5. Hur relevant upplever du att de teoretiska momenten var för yrkesrollen kommunikatör i offentlig förvaltning? Ringa in en siffra på skalan 0-10 (0-inte alls relevant, 10-mycket relevant)"
   ]
  },
  {
   "cell_type": "code",
   "execution_count": 4,
   "metadata": {},
   "outputs": [
    {
     "name": "stdout",
     "output_type": "stream",
     "text": [
      "N = 17\n"
     ]
    }
   ],
   "source": [
    "df1 = pd.read_csv(\"data/survey_theory.csv\")\n",
    "print(\"N =\", str(len(df1)))"
   ]
  },
  {
   "cell_type": "code",
   "execution_count": 15,
   "metadata": {},
   "outputs": [],
   "source": [
    "# df1.head()"
   ]
  },
  {
   "cell_type": "code",
   "execution_count": 34,
   "metadata": {},
   "outputs": [
    {
     "name": "stdout",
     "output_type": "stream",
     "text": [
      "Vilket/vilka moment upplevde du vara svårast\n",
      "      i Inlämningsuppgift 1?\n",
      "\n",
      "hålla det kort  -  5\n",
      "litteratur  -  3\n",
      "artiklarna  -  2\n",
      "exemplifiera  -  2\n",
      "föreläsningar svävande  -  1\n",
      "formulera fråga  -  1\n",
      "källhänvisningar  -  1\n",
      "beskrivning av uppgift  -  1\n",
      "upplägget  -  1\n",
      "begrepp  -  1\n",
      "nivå  -  1\n",
      "välja fråga  -  1\n",
      "hinna med att läsa  -  1\n",
      "akademisk nivå  -  1\n",
      "svårt att hitta djup I litteratur  -  1\n",
      "målgrupp  -  1\n",
      "stor valfrihet  -  1\n"
     ]
    }
   ],
   "source": [
    "Q1results = []\n",
    "\n",
    "#print(\"Showing results for: \")\n",
    "print('''Vilket/vilka moment upplevde du vara svårast\n",
    "      i Inlämningsuppgift 1?\\n''')\n",
    "for row in df1.iloc[:, 1:4]:\n",
    "    # print(row) # Control for correct rows\n",
    "    for n in df1[row]:\n",
    "        if type(n) == str:\n",
    "            Q1results.append(n)\n",
    "        \n",
    "#print(\"\\nResult: \", Q1results)\n",
    "#print(\"\\nKeyword frequencies:\")\n",
    "for freq in Counter(Q1results).most_common():\n",
    "    print(freq[0], \" - \", freq[1])"
   ]
  },
  {
   "cell_type": "code",
   "execution_count": 36,
   "metadata": {},
   "outputs": [
    {
     "name": "stdout",
     "output_type": "stream",
     "text": [
      "Vilka insikter/kunskaper upplever du \n",
      "      att du fått under de teoretiska momenten?\n",
      "\n",
      "begrepp  -  6\n",
      "digitalt samhälle  -  3\n",
      "perspektiv  -  3\n",
      "förankring I forskning  -  1\n",
      "sociala medier I organisationer  -  1\n",
      "anpassning till teknologi  -  1\n",
      "förståelse  -  1\n",
      "insikt I huvudämnet  -  1\n",
      "Lindgrens bok  -  1\n",
      "digital forskning  -  1\n",
      "fördelar och nackdelar med sociala medier  -  1\n",
      "kommunikation I sociala medier  -  1\n",
      "samverkan teknik och människa  -  1\n",
      "källhänvisningar  -  1\n",
      "hur man påverkas av sociala medier  -  1\n",
      "seminarium  -  1\n",
      "förståelse för forskning  -  1\n"
     ]
    }
   ],
   "source": [
    "Q2results = []\n",
    "\n",
    "#print(\"Showing results for: \")\n",
    "print('''Vilka insikter/kunskaper upplever du \n",
    "      att du fått under de teoretiska momenten?\\n''')\n",
    "for row in df1.iloc[:, 4:7]:\n",
    "    #rint(row) # Control for correct rows\n",
    "    for n in df1[row]:\n",
    "        if type(n) == str:\n",
    "            Q2results.append(n)\n",
    "        \n",
    "#print(\"\\nResult: \", Q2results)\n",
    "#print(\"\\nKeyword frequencies:\")\n",
    "for freq in Counter(Q2results).most_common():\n",
    "    print(freq[0], \" - \", freq[1])"
   ]
  },
  {
   "cell_type": "code",
   "execution_count": 37,
   "metadata": {},
   "outputs": [
    {
     "name": "stdout",
     "output_type": "stream",
     "text": [
      "Upplevde du att du hade all information \n",
      "      som krävdes för att lösa inlämningsuppgift 1?\n",
      "ja  -  10\n",
      "källhänvisningar  -  2\n",
      "tydlig information om examination  -  1\n",
      "tidsbrist på föreläsningar  -  1\n",
      "oklart om exemplifiering  -  1\n",
      "antal tecken ospecificerat  -  1\n",
      "mer info om föreläsningar  -  1\n",
      "oklart om målgrupp  -  1\n",
      "mer genomgång av begrepp  -  1\n"
     ]
    }
   ],
   "source": [
    "Q3results = []\n",
    "\n",
    "#print(\"Showing results for: \")\n",
    "print('''Upplevde du att du hade all information \n",
    "      som krävdes för att lösa inlämningsuppgift 1?''')\n",
    "for row in df1.iloc[:, 7:10]:\n",
    "    #print(row) # Control for correct rows\n",
    "    for n in df1[row]:\n",
    "        if type(n) == str:\n",
    "            Q3results.append(n)\n",
    "        \n",
    "#print(\"\\nResult: \", Q3results)\n",
    "#print(\"\\nKeyword frequencies:\")\n",
    "for freq in Counter(Q3results).most_common():\n",
    "    print(freq[0], \" - \", freq[1])"
   ]
  },
  {
   "cell_type": "code",
   "execution_count": 38,
   "metadata": {},
   "outputs": [],
   "source": [
    "def relevance_theory_course():\n",
    "    print('''Hur relevant upplever du att de teoretiska momenten \n",
    "    var för kursen Kommunikation i nya och sociala medier?''')\n",
    "    df1.Q4.value_counts().plot.bar(x=\"Score\", rot=0, subplots=True)\n",
    "    print(\"Mean = \" + str(df1.Q4.mean()))\n",
    "    print(\"Median = \" + str(df1.Q4.median()))\n",
    "    print(\"Std = \" + str(df1.Q4.std()))"
   ]
  },
  {
   "cell_type": "code",
   "execution_count": 39,
   "metadata": {},
   "outputs": [],
   "source": [
    "def relevance_theory_practice():\n",
    "    print('''Hur relevant upplever du att de teoretiska momenten \n",
    "          var för yrkesrollen kommunikatör i offentlig förvaltning?''')\n",
    "    df1.Q5.value_counts().plot.bar(x=\"Score\", rot=0, subplots=True)\n",
    "    print(\"Mean = \" + str(df1.Q5.mean()))\n",
    "    print(\"Median = \" + str(df1.Q5.median()))\n",
    "    print(\"Std = \" + str(df1.Q5.std()))"
   ]
  },
  {
   "cell_type": "code",
   "execution_count": null,
   "metadata": {},
   "outputs": [],
   "source": []
  },
  {
   "cell_type": "code",
   "execution_count": null,
   "metadata": {},
   "outputs": [],
   "source": []
  },
  {
   "cell_type": "code",
   "execution_count": null,
   "metadata": {},
   "outputs": [],
   "source": []
  }
 ],
 "metadata": {
  "kernelspec": {
   "display_name": "Python 3",
   "language": "python",
   "name": "python3"
  },
  "language_info": {
   "codemirror_mode": {
    "name": "ipython",
    "version": 3
   },
   "file_extension": ".py",
   "mimetype": "text/x-python",
   "name": "python",
   "nbconvert_exporter": "python",
   "pygments_lexer": "ipython3",
   "version": "3.6.4"
  }
 },
 "nbformat": 4,
 "nbformat_minor": 2
}
